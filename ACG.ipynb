{
  "nbformat": 4,
  "nbformat_minor": 0,
  "metadata": {
    "colab": {
      "provenance": [],
      "include_colab_link": true
    },
    "kernelspec": {
      "name": "python3",
      "display_name": "Python 3"
    },
    "language_info": {
      "name": "python"
    }
  },
  "cells": [
    {
      "cell_type": "markdown",
      "metadata": {
        "id": "view-in-github",
        "colab_type": "text"
      },
      "source": [
        "<a href=\"https://colab.research.google.com/github/CollinScott37/CollinScott37/blob/main/ACG.ipynb\" target=\"_parent\"><img src=\"https://colab.research.google.com/assets/colab-badge.svg\" alt=\"Open In Colab\"/></a>"
      ]
    },
    {
      "cell_type": "markdown",
      "source": [
        "#Content:\n",
        "##Formatting Data\n",
        "##Models\n",
        "##Results\n",
        "\n",
        "_______________________________________________________________________"
      ],
      "metadata": {
        "id": "SStFeRYbzsss"
      }
    },
    {
      "cell_type": "markdown",
      "source": [
        "#Formatting Data:"
      ],
      "metadata": {
        "id": "I3y969OY0D_E"
      }
    },
    {
      "cell_type": "code",
      "execution_count": null,
      "metadata": {
        "colab": {
          "base_uri": "https://localhost:8080/",
          "height": 206
        },
        "id": "5-l6W8_lt1cl",
        "outputId": "2210c805-7bb2-429b-8c76-8ca3a915b233"
      },
      "outputs": [
        {
          "output_type": "execute_result",
          "data": {
            "text/plain": [
              "           ID                                               name  \\\n",
              "0  1000002330                    The Songs of Adelaide & Abullah   \n",
              "1  1000003930      Greeting From Earth: ZGAC Arts Capsule For ET   \n",
              "2  1000004038                                     Where is Hank?   \n",
              "3  1000007540  ToshiCapital Rekordz Needs Help to Complete Album   \n",
              "4  1000011046  Community Film Project: The Art of Neighborhoo...   \n",
              "\n",
              "         category main_category currency    deadline     goal  \\\n",
              "0          Poetry    Publishing      GBP  2015-10-09   1000.0   \n",
              "1  Narrative Film  Film & Video      USD  2017-11-01  30000.0   \n",
              "2  Narrative Film  Film & Video      USD  2013-02-26  45000.0   \n",
              "3           Music         Music      USD  2012-04-16   5000.0   \n",
              "4    Film & Video  Film & Video      USD  2015-08-29  19500.0   \n",
              "\n",
              "              launched  pledged     state  backers country  usd pledged  \\\n",
              "0  2015-08-11 12:12:28      0.0    failed        0      GB          0.0   \n",
              "1   2017-09-02 4:43:57   2421.0    failed       15      US        100.0   \n",
              "2   2013-01-12 0:20:50    220.0    failed        3      US        220.0   \n",
              "3   2012-03-17 3:24:11      1.0    failed        1      US          1.0   \n",
              "4   2015-07-04 8:35:03   1283.0  canceled       14      US       1283.0   \n",
              "\n",
              "   usd_pledged_real  usd_goal_real  \n",
              "0               0.0        1533.95  \n",
              "1            2421.0       30000.00  \n",
              "2             220.0       45000.00  \n",
              "3               1.0        5000.00  \n",
              "4            1283.0       19500.00  "
            ],
            "text/html": [
              "\n",
              "  <div id=\"df-82b574b4-af7b-4933-b793-a7b4011e3a3b\">\n",
              "    <div class=\"colab-df-container\">\n",
              "      <div>\n",
              "<style scoped>\n",
              "    .dataframe tbody tr th:only-of-type {\n",
              "        vertical-align: middle;\n",
              "    }\n",
              "\n",
              "    .dataframe tbody tr th {\n",
              "        vertical-align: top;\n",
              "    }\n",
              "\n",
              "    .dataframe thead th {\n",
              "        text-align: right;\n",
              "    }\n",
              "</style>\n",
              "<table border=\"1\" class=\"dataframe\">\n",
              "  <thead>\n",
              "    <tr style=\"text-align: right;\">\n",
              "      <th></th>\n",
              "      <th>ID</th>\n",
              "      <th>name</th>\n",
              "      <th>category</th>\n",
              "      <th>main_category</th>\n",
              "      <th>currency</th>\n",
              "      <th>deadline</th>\n",
              "      <th>goal</th>\n",
              "      <th>launched</th>\n",
              "      <th>pledged</th>\n",
              "      <th>state</th>\n",
              "      <th>backers</th>\n",
              "      <th>country</th>\n",
              "      <th>usd pledged</th>\n",
              "      <th>usd_pledged_real</th>\n",
              "      <th>usd_goal_real</th>\n",
              "    </tr>\n",
              "  </thead>\n",
              "  <tbody>\n",
              "    <tr>\n",
              "      <th>0</th>\n",
              "      <td>1000002330</td>\n",
              "      <td>The Songs of Adelaide &amp; Abullah</td>\n",
              "      <td>Poetry</td>\n",
              "      <td>Publishing</td>\n",
              "      <td>GBP</td>\n",
              "      <td>2015-10-09</td>\n",
              "      <td>1000.0</td>\n",
              "      <td>2015-08-11 12:12:28</td>\n",
              "      <td>0.0</td>\n",
              "      <td>failed</td>\n",
              "      <td>0</td>\n",
              "      <td>GB</td>\n",
              "      <td>0.0</td>\n",
              "      <td>0.0</td>\n",
              "      <td>1533.95</td>\n",
              "    </tr>\n",
              "    <tr>\n",
              "      <th>1</th>\n",
              "      <td>1000003930</td>\n",
              "      <td>Greeting From Earth: ZGAC Arts Capsule For ET</td>\n",
              "      <td>Narrative Film</td>\n",
              "      <td>Film &amp; Video</td>\n",
              "      <td>USD</td>\n",
              "      <td>2017-11-01</td>\n",
              "      <td>30000.0</td>\n",
              "      <td>2017-09-02 4:43:57</td>\n",
              "      <td>2421.0</td>\n",
              "      <td>failed</td>\n",
              "      <td>15</td>\n",
              "      <td>US</td>\n",
              "      <td>100.0</td>\n",
              "      <td>2421.0</td>\n",
              "      <td>30000.00</td>\n",
              "    </tr>\n",
              "    <tr>\n",
              "      <th>2</th>\n",
              "      <td>1000004038</td>\n",
              "      <td>Where is Hank?</td>\n",
              "      <td>Narrative Film</td>\n",
              "      <td>Film &amp; Video</td>\n",
              "      <td>USD</td>\n",
              "      <td>2013-02-26</td>\n",
              "      <td>45000.0</td>\n",
              "      <td>2013-01-12 0:20:50</td>\n",
              "      <td>220.0</td>\n",
              "      <td>failed</td>\n",
              "      <td>3</td>\n",
              "      <td>US</td>\n",
              "      <td>220.0</td>\n",
              "      <td>220.0</td>\n",
              "      <td>45000.00</td>\n",
              "    </tr>\n",
              "    <tr>\n",
              "      <th>3</th>\n",
              "      <td>1000007540</td>\n",
              "      <td>ToshiCapital Rekordz Needs Help to Complete Album</td>\n",
              "      <td>Music</td>\n",
              "      <td>Music</td>\n",
              "      <td>USD</td>\n",
              "      <td>2012-04-16</td>\n",
              "      <td>5000.0</td>\n",
              "      <td>2012-03-17 3:24:11</td>\n",
              "      <td>1.0</td>\n",
              "      <td>failed</td>\n",
              "      <td>1</td>\n",
              "      <td>US</td>\n",
              "      <td>1.0</td>\n",
              "      <td>1.0</td>\n",
              "      <td>5000.00</td>\n",
              "    </tr>\n",
              "    <tr>\n",
              "      <th>4</th>\n",
              "      <td>1000011046</td>\n",
              "      <td>Community Film Project: The Art of Neighborhoo...</td>\n",
              "      <td>Film &amp; Video</td>\n",
              "      <td>Film &amp; Video</td>\n",
              "      <td>USD</td>\n",
              "      <td>2015-08-29</td>\n",
              "      <td>19500.0</td>\n",
              "      <td>2015-07-04 8:35:03</td>\n",
              "      <td>1283.0</td>\n",
              "      <td>canceled</td>\n",
              "      <td>14</td>\n",
              "      <td>US</td>\n",
              "      <td>1283.0</td>\n",
              "      <td>1283.0</td>\n",
              "      <td>19500.00</td>\n",
              "    </tr>\n",
              "  </tbody>\n",
              "</table>\n",
              "</div>\n",
              "      <button class=\"colab-df-convert\" onclick=\"convertToInteractive('df-82b574b4-af7b-4933-b793-a7b4011e3a3b')\"\n",
              "              title=\"Convert this dataframe to an interactive table.\"\n",
              "              style=\"display:none;\">\n",
              "        \n",
              "  <svg xmlns=\"http://www.w3.org/2000/svg\" height=\"24px\"viewBox=\"0 0 24 24\"\n",
              "       width=\"24px\">\n",
              "    <path d=\"M0 0h24v24H0V0z\" fill=\"none\"/>\n",
              "    <path d=\"M18.56 5.44l.94 2.06.94-2.06 2.06-.94-2.06-.94-.94-2.06-.94 2.06-2.06.94zm-11 1L8.5 8.5l.94-2.06 2.06-.94-2.06-.94L8.5 2.5l-.94 2.06-2.06.94zm10 10l.94 2.06.94-2.06 2.06-.94-2.06-.94-.94-2.06-.94 2.06-2.06.94z\"/><path d=\"M17.41 7.96l-1.37-1.37c-.4-.4-.92-.59-1.43-.59-.52 0-1.04.2-1.43.59L10.3 9.45l-7.72 7.72c-.78.78-.78 2.05 0 2.83L4 21.41c.39.39.9.59 1.41.59.51 0 1.02-.2 1.41-.59l7.78-7.78 2.81-2.81c.8-.78.8-2.07 0-2.86zM5.41 20L4 18.59l7.72-7.72 1.47 1.35L5.41 20z\"/>\n",
              "  </svg>\n",
              "      </button>\n",
              "      \n",
              "  <style>\n",
              "    .colab-df-container {\n",
              "      display:flex;\n",
              "      flex-wrap:wrap;\n",
              "      gap: 12px;\n",
              "    }\n",
              "\n",
              "    .colab-df-convert {\n",
              "      background-color: #E8F0FE;\n",
              "      border: none;\n",
              "      border-radius: 50%;\n",
              "      cursor: pointer;\n",
              "      display: none;\n",
              "      fill: #1967D2;\n",
              "      height: 32px;\n",
              "      padding: 0 0 0 0;\n",
              "      width: 32px;\n",
              "    }\n",
              "\n",
              "    .colab-df-convert:hover {\n",
              "      background-color: #E2EBFA;\n",
              "      box-shadow: 0px 1px 2px rgba(60, 64, 67, 0.3), 0px 1px 3px 1px rgba(60, 64, 67, 0.15);\n",
              "      fill: #174EA6;\n",
              "    }\n",
              "\n",
              "    [theme=dark] .colab-df-convert {\n",
              "      background-color: #3B4455;\n",
              "      fill: #D2E3FC;\n",
              "    }\n",
              "\n",
              "    [theme=dark] .colab-df-convert:hover {\n",
              "      background-color: #434B5C;\n",
              "      box-shadow: 0px 1px 3px 1px rgba(0, 0, 0, 0.15);\n",
              "      filter: drop-shadow(0px 1px 2px rgba(0, 0, 0, 0.3));\n",
              "      fill: #FFFFFF;\n",
              "    }\n",
              "  </style>\n",
              "\n",
              "      <script>\n",
              "        const buttonEl =\n",
              "          document.querySelector('#df-82b574b4-af7b-4933-b793-a7b4011e3a3b button.colab-df-convert');\n",
              "        buttonEl.style.display =\n",
              "          google.colab.kernel.accessAllowed ? 'block' : 'none';\n",
              "\n",
              "        async function convertToInteractive(key) {\n",
              "          const element = document.querySelector('#df-82b574b4-af7b-4933-b793-a7b4011e3a3b');\n",
              "          const dataTable =\n",
              "            await google.colab.kernel.invokeFunction('convertToInteractive',\n",
              "                                                     [key], {});\n",
              "          if (!dataTable) return;\n",
              "\n",
              "          const docLinkHtml = 'Like what you see? Visit the ' +\n",
              "            '<a target=\"_blank\" href=https://colab.research.google.com/notebooks/data_table.ipynb>data table notebook</a>'\n",
              "            + ' to learn more about interactive tables.';\n",
              "          element.innerHTML = '';\n",
              "          dataTable['output_type'] = 'display_data';\n",
              "          await google.colab.output.renderOutput(dataTable, element);\n",
              "          const docLink = document.createElement('div');\n",
              "          docLink.innerHTML = docLinkHtml;\n",
              "          element.appendChild(docLink);\n",
              "        }\n",
              "      </script>\n",
              "    </div>\n",
              "  </div>\n",
              "  "
            ]
          },
          "metadata": {},
          "execution_count": 29
        }
      ],
      "source": [
        "#box 1\n",
        "\n",
        "#upload data file via file \"icon\" on left (not top left word \"file\")\n",
        "\n",
        "import numpy as np\n",
        "import pandas as pd\n",
        "import time\n",
        "import datetime\n",
        "\n",
        "data_frame = pd.read_csv('ks-projects-201801.csv')\n",
        "data_frame.head()\n"
      ]
    },
    {
      "cell_type": "code",
      "source": [
        "#box 2\n",
        "\n",
        "#**********************************************\n",
        "#Removes colums and rows not needed in the data\n",
        "#**********************************************\n",
        "\n",
        "from re import L\n",
        "labels = data_frame.values[:, 9]\n",
        "features = data_frame.values[:, :]\n",
        "#print(features[0])\n",
        "\n",
        "#Clean Up\n",
        "#OLD COLUMN ORDER: category, main_category, deadline, launched, usd_pledged_real, usd_gaol_real\n",
        "features = np.delete(features, [0,1,4,6,8,9,11,12], 1) #remove certain rows\n",
        "\n",
        "#swaps deadline and launch so launch is listed first\n",
        "def Swap(arr, start_index, last_index):\n",
        "    arr[:, [start_index, last_index]] = arr[:, [last_index, start_index]]\n",
        "\n",
        "#NEW COLUMN ORDER: category, main_category, launched, deadline, usd_pledged_real, usd_gaol_real\n",
        "Swap(features, 2, 3)\n",
        "\n",
        "\n",
        "#the states we don't want\n",
        "unwantedLabels = np.array(['canceled', 'live', 'suspended', 'undefined'])\n",
        "\n",
        "#row index of the with states we don't want\n",
        "rowIndexToDelete = np.zeros(labels.shape)\n",
        "for i  in range(len(unwantedLabels)):\n",
        "  rowIndexToDelete += labels == unwantedLabels[i]\n",
        "\n",
        "#convert to bool array\n",
        "rowIndexToDelete = rowIndexToDelete.astype(bool)\n",
        "\n",
        "\n",
        "#delete those rows\n",
        "labels = np.delete(labels, rowIndexToDelete, axis=0)\n",
        "features = np.delete(features, rowIndexToDelete, axis=0)\n",
        "\n",
        "print('array of labels: shape ' + str(np.shape(labels)))\n",
        "print('array of feature matrix: shape ' + str(np.shape(features)))\n"
      ],
      "metadata": {
        "id": "98GqPyAH41W5",
        "colab": {
          "base_uri": "https://localhost:8080/"
        },
        "outputId": "eeff238b-e3fc-4a25-973e-c49ea1085c88"
      },
      "execution_count": null,
      "outputs": [
        {
          "output_type": "stream",
          "name": "stdout",
          "text": [
            "array of labels: shape (331675,)\n",
            "array of feature matrix: shape (331675, 7)\n"
          ]
        }
      ]
    },
    {
      "cell_type": "code",
      "source": [
        "#box 3\n",
        "\n",
        "#***********************************\n",
        "#Formating data to read time legibly\n",
        "#***********************************\n",
        "\n",
        "#COLUMN ORDER: category, main_category, launched, deadline, backers, usd_pledged_real, usd_gaol_real\n",
        "\n",
        "#convert launched(string) to time in seconds\n",
        "for i in range(len(features)):\n",
        "  features[i][2] = datetime.datetime.strptime(features[i][2], \"%Y-%m-%d %H:%M:%S\").timestamp()\n",
        "\n",
        "#convert deadline(string) to time in seconds\n",
        "for i in range(len(features)):\n",
        "  features[i][3] = datetime.datetime.strptime(features[i][3], \"%Y-%m-%d\").timestamp()\n",
        "\n",
        "#print(features[0][2])\n",
        "#print(features[0][3])"
      ],
      "metadata": {
        "id": "xjJSm3jj9lG7"
      },
      "execution_count": null,
      "outputs": []
    },
    {
      "cell_type": "code",
      "source": [
        "#box 4\n",
        "\n",
        "#******************************************************\n",
        "#Hot One Encoding for category and Main category columns\n",
        "#******************************************************\n",
        "\n",
        "\n",
        "#COLUMN ORDER: sub_category, main_category, launched, deadline, backers, usd_pledged_real, usd_gaol_real\n",
        "\n",
        "MAIN_CAT_SIZE =  np.unique(features[:,1]).size\n",
        "SUB_CAT_SIZE = np.unique(features[:,0]).size\n",
        "\n",
        "#new shape should be (331675, 179)\n",
        "#Hot One Encoding for both sub_cat and main_cat FOR FEATURES\n",
        "nf = np.zeros((len(features), 179))\n",
        "subCatUnique = np.unique(features[:,0])\n",
        "mainCatUnique = np.unique(features[:,1])\n",
        "for i in range(len(features)):\n",
        "  subMatch = (subCatUnique == features[i][0]).astype(int)\n",
        "  mainMatch = (mainCatUnique == features[i][1]).astype(int)\n",
        "  x = np.insert(features[i],1,subMatch)\n",
        "  y = np.insert(x,-5, mainMatch)\n",
        "  y = y[1:]\n",
        "  nf[i] = np.append(y[:SUB_CAT_SIZE],y[SUB_CAT_SIZE+1:])\n",
        "\n",
        " "
      ],
      "metadata": {
        "id": "aZVwmAJYm8z4"
      },
      "execution_count": null,
      "outputs": []
    },
    {
      "cell_type": "code",
      "source": [
        "#box 5\n",
        "\n",
        "#***************************\n",
        "#Hot one encoding for labels\n",
        "#***************************\n",
        "\n",
        "uniqueLabels = np.unique(labels)\n",
        "print(uniqueLabels)\n",
        "\n",
        "mask = labels == uniqueLabels[1]\n",
        "\n",
        "labels = mask.astype(int)\n",
        "\n",
        "\n",
        "#0 == failed\n",
        "#1 == successful"
      ],
      "metadata": {
        "id": "EXTcqSUwhM1f",
        "colab": {
          "base_uri": "https://localhost:8080/"
        },
        "outputId": "fb6f0008-fbe4-4ecd-d7f5-4a9ffef13a51"
      },
      "execution_count": null,
      "outputs": [
        {
          "output_type": "stream",
          "name": "stdout",
          "text": [
            "['failed' 'successful']\n"
          ]
        }
      ]
    },
    {
      "cell_type": "code",
      "source": [
        "#box 6\n",
        "\n",
        "#*********************************\n",
        "#Maintains an old copy of features\n",
        "#*********************************\n",
        "\n",
        "oldFeatures = features;\n",
        "features = nf"
      ],
      "metadata": {
        "id": "0iD5tfHYyP_c"
      },
      "execution_count": null,
      "outputs": []
    },
    {
      "cell_type": "code",
      "source": [
        "#box 7\n",
        "\n",
        "#***********************************************************\n",
        "#Generates %80 training data set and %20 validation data set\n",
        "#***********************************************************\n",
        "\n",
        "np.random.seed(seed=1)\n",
        "def IDK (features, labels):\n",
        "  #20% of the data\n",
        "  validAmount = len(features) * 0.2\n",
        "\n",
        "  #list of all possible indicies inisde features\n",
        "  indices = np.arange(0, len(features))\n",
        "\n",
        "  #random choose indicies (20% of features)\n",
        "  validIndicies = np.random.choice(indices, size=int(validAmount), replace=False)\n",
        "  validIndicies = np.sort(validIndicies)\n",
        "\n",
        "  #list of all possible indicies inisde features\n",
        "  indices = np.arange(0, len(features))\n",
        "\n",
        "  #random choose indicies (20% of features)\n",
        "  validIndicies = np.random.choice(indices, size=int(validAmount), replace=False)\n",
        "\n",
        "  #The Validation Set\n",
        "  validSet = np.empty((int(validAmount), len(features[0])))\n",
        "  validLabels = np.empty((int(validAmount)))\n",
        "\n",
        "  #add the respective indicies for the validation set\n",
        "  for i in range(len(validSet)):\n",
        "      validSet[i] = np.copy(features[validIndicies[i]])\n",
        "      validLabels[i] = np.copy(labels[validIndicies[i]])\n",
        "\n",
        "  #remove those indicies from features\n",
        "  trainingSet = np.delete(features, validIndicies, axis=0)\n",
        "  trainingLabels = np.delete(labels, validIndicies);\n",
        "  return (validSet, validLabels, trainingSet, trainingLabels)\n",
        "\n",
        "validSet, validLabels, trainingSet, trainingLabels = IDK(features, labels)\n",
        "\n",
        "print(\"validSet:\")\n",
        "print(validSet.shape)\n",
        "print(\"validLabels:\")\n",
        "print(validLabels.shape)\n",
        "print(\"trainingSet:\")\n",
        "print(trainingSet.shape)\n",
        "print(\"trainingLabels:\")\n",
        "print(trainingLabels.shape);\n",
        "\n",
        "print(\"features:\")\n",
        "print(features.shape)\n",
        "print(\"labels:\")\n",
        "print(labels.shape);\n"
      ],
      "metadata": {
        "id": "8oXXs7fSfxI_",
        "colab": {
          "base_uri": "https://localhost:8080/"
        },
        "outputId": "739a7a08-8d76-4c96-cb78-1bc4b15a53f9"
      },
      "execution_count": null,
      "outputs": [
        {
          "output_type": "stream",
          "name": "stdout",
          "text": [
            "validSet:\n",
            "(66335, 179)\n",
            "validLabels:\n",
            "(66335,)\n",
            "trainingSet:\n",
            "(265340, 179)\n",
            "trainingLabels:\n",
            "(265340,)\n",
            "features:\n",
            "(331675, 179)\n",
            "labels:\n",
            "(331675,)\n"
          ]
        }
      ]
    },
    {
      "cell_type": "code",
      "source": [
        "#7.5 testing\n",
        "test = np.delete(features, [-5,-4], 1) #remove launched and dealine\n",
        "\n",
        "TvalidSet, TvalidLabels, TtrainingSet, TtrainingLabels = IDK(test, labels)"
      ],
      "metadata": {
        "id": "hD8PVE-l1wIa"
      },
      "execution_count": null,
      "outputs": []
    },
    {
      "cell_type": "code",
      "source": [
        "#box 8\n",
        "#print(TtrainingSet)\n",
        "#print(TvalidSet)\n",
        "from sklearn.neighbors import KNeighborsClassifier\n",
        "knn = KNeighborsClassifier(n_neighbors=10, weights='distance', p=2)\n",
        "knn.fit(TtrainingSet, TtrainingLabels)\n",
        "print(f\"{}\", knn.predict(TvalidSet[0]))\n",
        "knn.score(TvalidSet[0:100], TvalidLabels[0:100])"
      ],
      "metadata": {
        "id": "ZeMsJlz2v5xG",
        "colab": {
          "base_uri": "https://localhost:8080/"
        },
        "outputId": "8b23512d-509c-43ef-bb97-e35ff6357e60"
      },
      "execution_count": null,
      "outputs": [
        {
          "output_type": "stream",
          "name": "stdout",
          "text": [
            "[[0.00000e+00 0.00000e+00 0.00000e+00 ... 0.00000e+00 0.00000e+00\n",
            "  1.53395e+03]\n",
            " [0.00000e+00 0.00000e+00 0.00000e+00 ... 3.00000e+00 2.20000e+02\n",
            "  4.50000e+04]\n",
            " [0.00000e+00 0.00000e+00 0.00000e+00 ... 1.00000e+00 1.00000e+00\n",
            "  5.00000e+03]\n",
            " ...\n",
            " [0.00000e+00 0.00000e+00 0.00000e+00 ... 5.00000e+00 1.55000e+02\n",
            "  1.50000e+03]\n",
            " [0.00000e+00 0.00000e+00 0.00000e+00 ... 1.00000e+00 2.00000e+01\n",
            "  1.50000e+04]\n",
            " [0.00000e+00 0.00000e+00 0.00000e+00 ... 1.70000e+01 5.24000e+02\n",
            "  2.00000e+03]]\n",
            "[[0.000000e+00 0.000000e+00 0.000000e+00 ... 5.000000e+00 1.333300e+02\n",
            "  1.500000e+03]\n",
            " [0.000000e+00 0.000000e+00 0.000000e+00 ... 2.190000e+02 1.733740e+04\n",
            "  1.250782e+04]\n",
            " [0.000000e+00 0.000000e+00 0.000000e+00 ... 1.020000e+02 1.326500e+04\n",
            "  4.500000e+04]\n",
            " ...\n",
            " [0.000000e+00 0.000000e+00 0.000000e+00 ... 1.400000e+01 8.800000e+02\n",
            "  8.000000e+02]\n",
            " [0.000000e+00 0.000000e+00 0.000000e+00 ... 2.200000e+01 1.550000e+03\n",
            "  9.000000e+02]\n",
            " [0.000000e+00 0.000000e+00 0.000000e+00 ... 5.700000e+01 2.969000e+03\n",
            "  2.500000e+03]]\n"
          ]
        },
        {
          "output_type": "execute_result",
          "data": {
            "text/plain": [
              "1.0"
            ]
          },
          "metadata": {},
          "execution_count": 48
        }
      ]
    },
    {
      "cell_type": "markdown",
      "source": [
        "# Models\n",
        "##insert all models here\n",
        "\n",
        "###Feauture Selection:\n",
        "###PCA:\n"
      ],
      "metadata": {
        "id": "WbzUlb9CzUZk"
      }
    },
    {
      "cell_type": "markdown",
      "source": [
        "#Results"
      ],
      "metadata": {
        "id": "O-6YAaoo0MQq"
      }
    }
  ]
}